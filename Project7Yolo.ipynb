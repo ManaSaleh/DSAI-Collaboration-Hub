{
  "nbformat": 4,
  "nbformat_minor": 0,
  "metadata": {
    "colab": {
      "provenance": [],
      "gpuType": "T4",
      "authorship_tag": "ABX9TyMheRhC/P/+iyQ/348gLFQs",
      "include_colab_link": true
    },
    "kernelspec": {
      "name": "python3",
      "display_name": "Python 3"
    },
    "language_info": {
      "name": "python"
    },
    "accelerator": "GPU"
  },
  "cells": [
    {
      "cell_type": "markdown",
      "metadata": {
        "id": "view-in-github",
        "colab_type": "text"
      },
      "source": [
        "<a href=\"https://colab.research.google.com/github/ManaSaleh/T5/blob/main/Project7Yolo.ipynb\" target=\"_parent\"><img src=\"https://colab.research.google.com/assets/colab-badge.svg\" alt=\"Open In Colab\"/></a>"
      ]
    },
    {
      "cell_type": "markdown",
      "source": [
        "# Project 7 YOLO"
      ],
      "metadata": {
        "id": "vTDgUr2yDl8s"
      }
    },
    {
      "cell_type": "markdown",
      "source": [
        "## Load Data and Model"
      ],
      "metadata": {
        "id": "NJNqVO1BDrFY"
      }
    },
    {
      "cell_type": "code",
      "execution_count": null,
      "metadata": {
        "colab": {
          "base_uri": "https://localhost:8080/"
        },
        "id": "--dyJ8ojHLsh",
        "outputId": "fd47623b-8004-4757-841f-f14918d63a73"
      },
      "outputs": [
        {
          "output_type": "stream",
          "name": "stdout",
          "text": [
            "Requirement already satisfied: roboflow in /usr/local/lib/python3.10/dist-packages (1.1.28)\n",
            "Requirement already satisfied: certifi==2023.7.22 in /usr/local/lib/python3.10/dist-packages (from roboflow) (2023.7.22)\n",
            "Requirement already satisfied: chardet==4.0.0 in /usr/local/lib/python3.10/dist-packages (from roboflow) (4.0.0)\n",
            "Requirement already satisfied: cycler==0.10.0 in /usr/local/lib/python3.10/dist-packages (from roboflow) (0.10.0)\n",
            "Requirement already satisfied: idna==2.10 in /usr/local/lib/python3.10/dist-packages (from roboflow) (2.10)\n",
            "Requirement already satisfied: kiwisolver>=1.3.1 in /usr/local/lib/python3.10/dist-packages (from roboflow) (1.4.5)\n",
            "Requirement already satisfied: matplotlib in /usr/local/lib/python3.10/dist-packages (from roboflow) (3.7.1)\n",
            "Requirement already satisfied: numpy>=1.18.5 in /usr/local/lib/python3.10/dist-packages (from roboflow) (1.25.2)\n",
            "Requirement already satisfied: opencv-python-headless==4.8.0.74 in /usr/local/lib/python3.10/dist-packages (from roboflow) (4.8.0.74)\n",
            "Requirement already satisfied: Pillow>=7.1.2 in /usr/local/lib/python3.10/dist-packages (from roboflow) (9.4.0)\n",
            "Requirement already satisfied: python-dateutil in /usr/local/lib/python3.10/dist-packages (from roboflow) (2.8.2)\n",
            "Requirement already satisfied: python-dotenv in /usr/local/lib/python3.10/dist-packages (from roboflow) (1.0.1)\n",
            "Requirement already satisfied: requests in /usr/local/lib/python3.10/dist-packages (from roboflow) (2.31.0)\n",
            "Requirement already satisfied: six in /usr/local/lib/python3.10/dist-packages (from roboflow) (1.16.0)\n",
            "Requirement already satisfied: urllib3>=1.26.6 in /usr/local/lib/python3.10/dist-packages (from roboflow) (2.0.7)\n",
            "Requirement already satisfied: tqdm>=4.41.0 in /usr/local/lib/python3.10/dist-packages (from roboflow) (4.66.4)\n",
            "Requirement already satisfied: PyYAML>=5.3.1 in /usr/local/lib/python3.10/dist-packages (from roboflow) (6.0.1)\n",
            "Requirement already satisfied: requests-toolbelt in /usr/local/lib/python3.10/dist-packages (from roboflow) (1.0.0)\n",
            "Requirement already satisfied: python-magic in /usr/local/lib/python3.10/dist-packages (from roboflow) (0.4.27)\n",
            "Requirement already satisfied: contourpy>=1.0.1 in /usr/local/lib/python3.10/dist-packages (from matplotlib->roboflow) (1.2.1)\n",
            "Requirement already satisfied: fonttools>=4.22.0 in /usr/local/lib/python3.10/dist-packages (from matplotlib->roboflow) (4.51.0)\n",
            "Requirement already satisfied: packaging>=20.0 in /usr/local/lib/python3.10/dist-packages (from matplotlib->roboflow) (24.0)\n",
            "Requirement already satisfied: pyparsing>=2.3.1 in /usr/local/lib/python3.10/dist-packages (from matplotlib->roboflow) (3.1.2)\n",
            "Requirement already satisfied: charset-normalizer<4,>=2 in /usr/local/lib/python3.10/dist-packages (from requests->roboflow) (3.3.2)\n",
            "loading Roboflow workspace...\n",
            "loading Roboflow project...\n",
            "[WARNING] we noticed you are downloading a `yolov8` datasets but you don't have `ultralytics` installed. Roboflow `.deploy` supports only models trained with `ultralytics==8.0.196`, to intall it `pip install ultralytics==8.0.196`.\n"
          ]
        },
        {
          "output_type": "stream",
          "name": "stderr",
          "text": [
            "Downloading Dataset Version Zip in American-Sign-Language-Letters-1 to yolov8:: 100%|██████████| 23020/23020 [00:01<00:00, 17037.57it/s]\n"
          ]
        },
        {
          "output_type": "stream",
          "name": "stdout",
          "text": [
            "\n"
          ]
        },
        {
          "output_type": "stream",
          "name": "stderr",
          "text": [
            "Extracting Dataset Version Zip to American-Sign-Language-Letters-1 in yolov8:: 100%|██████████| 3468/3468 [00:00<00:00, 5831.02it/s]\n"
          ]
        }
      ],
      "source": [
        "!pip install roboflow\n",
        "\n",
        "from roboflow import Roboflow\n",
        "rf = Roboflow(api_key=\"nwWZcKThSq9DXUZJnYXT\")\n",
        "project = rf.workspace(\"david-lee-d0rhs\").project(\"american-sign-language-letters\")\n",
        "version = project.version(1)\n",
        "dataset = version.download(\"yolov8\")"
      ]
    },
    {
      "cell_type": "code",
      "source": [
        "!pip install ultralytics"
      ],
      "metadata": {
        "id": "QQyzDks4HTg2",
        "colab": {
          "base_uri": "https://localhost:8080/"
        },
        "outputId": "4f39d12c-20a5-4106-8dbe-5ede1ae39448"
      },
      "execution_count": null,
      "outputs": [
        {
          "output_type": "stream",
          "name": "stdout",
          "text": [
            "Collecting ultralytics\n",
            "  Downloading ultralytics-8.2.15-py3-none-any.whl (756 kB)\n",
            "\u001b[?25l     \u001b[90m━━━━━━━━━━━━━━━━━━━━━━━━━━━━━━━━━━━━━━━━\u001b[0m \u001b[32m0.0/756.9 kB\u001b[0m \u001b[31m?\u001b[0m eta \u001b[36m-:--:--\u001b[0m\r\u001b[2K     \u001b[91m━━━━━━━━━━━━━━━━━\u001b[0m\u001b[90m╺\u001b[0m\u001b[90m━━━━━━━━━━━━━━━━━━━━━━\u001b[0m \u001b[32m327.7/756.9 kB\u001b[0m \u001b[31m9.9 MB/s\u001b[0m eta \u001b[36m0:00:01\u001b[0m\r\u001b[2K     \u001b[90m━━━━━━━━━━━━━━━━━━━━━━━━━━━━━━━━━━━━━━━━\u001b[0m \u001b[32m756.9/756.9 kB\u001b[0m \u001b[31m11.7 MB/s\u001b[0m eta \u001b[36m0:00:00\u001b[0m\n",
            "\u001b[?25hRequirement already satisfied: matplotlib>=3.3.0 in /usr/local/lib/python3.10/dist-packages (from ultralytics) (3.7.1)\n",
            "Requirement already satisfied: opencv-python>=4.6.0 in /usr/local/lib/python3.10/dist-packages (from ultralytics) (4.8.0.76)\n",
            "Requirement already satisfied: pillow>=7.1.2 in /usr/local/lib/python3.10/dist-packages (from ultralytics) (9.4.0)\n",
            "Requirement already satisfied: pyyaml>=5.3.1 in /usr/local/lib/python3.10/dist-packages (from ultralytics) (6.0.1)\n",
            "Requirement already satisfied: requests>=2.23.0 in /usr/local/lib/python3.10/dist-packages (from ultralytics) (2.31.0)\n",
            "Requirement already satisfied: scipy>=1.4.1 in /usr/local/lib/python3.10/dist-packages (from ultralytics) (1.11.4)\n",
            "Requirement already satisfied: torch>=1.8.0 in /usr/local/lib/python3.10/dist-packages (from ultralytics) (2.2.1+cu121)\n",
            "Requirement already satisfied: torchvision>=0.9.0 in /usr/local/lib/python3.10/dist-packages (from ultralytics) (0.17.1+cu121)\n",
            "Requirement already satisfied: tqdm>=4.64.0 in /usr/local/lib/python3.10/dist-packages (from ultralytics) (4.66.4)\n",
            "Requirement already satisfied: psutil in /usr/local/lib/python3.10/dist-packages (from ultralytics) (5.9.5)\n",
            "Requirement already satisfied: py-cpuinfo in /usr/local/lib/python3.10/dist-packages (from ultralytics) (9.0.0)\n",
            "Collecting thop>=0.1.1 (from ultralytics)\n",
            "  Downloading thop-0.1.1.post2209072238-py3-none-any.whl (15 kB)\n",
            "Requirement already satisfied: pandas>=1.1.4 in /usr/local/lib/python3.10/dist-packages (from ultralytics) (2.0.3)\n",
            "Requirement already satisfied: seaborn>=0.11.0 in /usr/local/lib/python3.10/dist-packages (from ultralytics) (0.13.1)\n",
            "Requirement already satisfied: contourpy>=1.0.1 in /usr/local/lib/python3.10/dist-packages (from matplotlib>=3.3.0->ultralytics) (1.2.1)\n",
            "Requirement already satisfied: cycler>=0.10 in /usr/local/lib/python3.10/dist-packages (from matplotlib>=3.3.0->ultralytics) (0.10.0)\n",
            "Requirement already satisfied: fonttools>=4.22.0 in /usr/local/lib/python3.10/dist-packages (from matplotlib>=3.3.0->ultralytics) (4.51.0)\n",
            "Requirement already satisfied: kiwisolver>=1.0.1 in /usr/local/lib/python3.10/dist-packages (from matplotlib>=3.3.0->ultralytics) (1.4.5)\n",
            "Requirement already satisfied: numpy>=1.20 in /usr/local/lib/python3.10/dist-packages (from matplotlib>=3.3.0->ultralytics) (1.25.2)\n",
            "Requirement already satisfied: packaging>=20.0 in /usr/local/lib/python3.10/dist-packages (from matplotlib>=3.3.0->ultralytics) (24.0)\n",
            "Requirement already satisfied: pyparsing>=2.3.1 in /usr/local/lib/python3.10/dist-packages (from matplotlib>=3.3.0->ultralytics) (3.1.2)\n",
            "Requirement already satisfied: python-dateutil>=2.7 in /usr/local/lib/python3.10/dist-packages (from matplotlib>=3.3.0->ultralytics) (2.8.2)\n",
            "Requirement already satisfied: pytz>=2020.1 in /usr/local/lib/python3.10/dist-packages (from pandas>=1.1.4->ultralytics) (2023.4)\n",
            "Requirement already satisfied: tzdata>=2022.1 in /usr/local/lib/python3.10/dist-packages (from pandas>=1.1.4->ultralytics) (2024.1)\n",
            "Requirement already satisfied: charset-normalizer<4,>=2 in /usr/local/lib/python3.10/dist-packages (from requests>=2.23.0->ultralytics) (3.3.2)\n",
            "Requirement already satisfied: idna<4,>=2.5 in /usr/local/lib/python3.10/dist-packages (from requests>=2.23.0->ultralytics) (2.10)\n",
            "Requirement already satisfied: urllib3<3,>=1.21.1 in /usr/local/lib/python3.10/dist-packages (from requests>=2.23.0->ultralytics) (2.0.7)\n",
            "Requirement already satisfied: certifi>=2017.4.17 in /usr/local/lib/python3.10/dist-packages (from requests>=2.23.0->ultralytics) (2023.7.22)\n",
            "Requirement already satisfied: filelock in /usr/local/lib/python3.10/dist-packages (from torch>=1.8.0->ultralytics) (3.14.0)\n",
            "Requirement already satisfied: typing-extensions>=4.8.0 in /usr/local/lib/python3.10/dist-packages (from torch>=1.8.0->ultralytics) (4.11.0)\n",
            "Requirement already satisfied: sympy in /usr/local/lib/python3.10/dist-packages (from torch>=1.8.0->ultralytics) (1.12)\n",
            "Requirement already satisfied: networkx in /usr/local/lib/python3.10/dist-packages (from torch>=1.8.0->ultralytics) (3.3)\n",
            "Requirement already satisfied: jinja2 in /usr/local/lib/python3.10/dist-packages (from torch>=1.8.0->ultralytics) (3.1.4)\n",
            "Requirement already satisfied: fsspec in /usr/local/lib/python3.10/dist-packages (from torch>=1.8.0->ultralytics) (2023.6.0)\n",
            "Collecting nvidia-cuda-nvrtc-cu12==12.1.105 (from torch>=1.8.0->ultralytics)\n",
            "  Using cached nvidia_cuda_nvrtc_cu12-12.1.105-py3-none-manylinux1_x86_64.whl (23.7 MB)\n",
            "Collecting nvidia-cuda-runtime-cu12==12.1.105 (from torch>=1.8.0->ultralytics)\n",
            "  Using cached nvidia_cuda_runtime_cu12-12.1.105-py3-none-manylinux1_x86_64.whl (823 kB)\n",
            "Collecting nvidia-cuda-cupti-cu12==12.1.105 (from torch>=1.8.0->ultralytics)\n",
            "  Using cached nvidia_cuda_cupti_cu12-12.1.105-py3-none-manylinux1_x86_64.whl (14.1 MB)\n",
            "Collecting nvidia-cudnn-cu12==8.9.2.26 (from torch>=1.8.0->ultralytics)\n",
            "  Using cached nvidia_cudnn_cu12-8.9.2.26-py3-none-manylinux1_x86_64.whl (731.7 MB)\n",
            "Collecting nvidia-cublas-cu12==12.1.3.1 (from torch>=1.8.0->ultralytics)\n",
            "  Using cached nvidia_cublas_cu12-12.1.3.1-py3-none-manylinux1_x86_64.whl (410.6 MB)\n",
            "Collecting nvidia-cufft-cu12==11.0.2.54 (from torch>=1.8.0->ultralytics)\n",
            "  Using cached nvidia_cufft_cu12-11.0.2.54-py3-none-manylinux1_x86_64.whl (121.6 MB)\n",
            "Collecting nvidia-curand-cu12==10.3.2.106 (from torch>=1.8.0->ultralytics)\n",
            "  Using cached nvidia_curand_cu12-10.3.2.106-py3-none-manylinux1_x86_64.whl (56.5 MB)\n",
            "Collecting nvidia-cusolver-cu12==11.4.5.107 (from torch>=1.8.0->ultralytics)\n",
            "  Using cached nvidia_cusolver_cu12-11.4.5.107-py3-none-manylinux1_x86_64.whl (124.2 MB)\n",
            "Collecting nvidia-cusparse-cu12==12.1.0.106 (from torch>=1.8.0->ultralytics)\n",
            "  Using cached nvidia_cusparse_cu12-12.1.0.106-py3-none-manylinux1_x86_64.whl (196.0 MB)\n",
            "Collecting nvidia-nccl-cu12==2.19.3 (from torch>=1.8.0->ultralytics)\n",
            "  Using cached nvidia_nccl_cu12-2.19.3-py3-none-manylinux1_x86_64.whl (166.0 MB)\n",
            "Collecting nvidia-nvtx-cu12==12.1.105 (from torch>=1.8.0->ultralytics)\n",
            "  Using cached nvidia_nvtx_cu12-12.1.105-py3-none-manylinux1_x86_64.whl (99 kB)\n",
            "Requirement already satisfied: triton==2.2.0 in /usr/local/lib/python3.10/dist-packages (from torch>=1.8.0->ultralytics) (2.2.0)\n",
            "Collecting nvidia-nvjitlink-cu12 (from nvidia-cusolver-cu12==11.4.5.107->torch>=1.8.0->ultralytics)\n",
            "  Using cached nvidia_nvjitlink_cu12-12.4.127-py3-none-manylinux2014_x86_64.whl (21.1 MB)\n",
            "Requirement already satisfied: six in /usr/local/lib/python3.10/dist-packages (from cycler>=0.10->matplotlib>=3.3.0->ultralytics) (1.16.0)\n",
            "Requirement already satisfied: MarkupSafe>=2.0 in /usr/local/lib/python3.10/dist-packages (from jinja2->torch>=1.8.0->ultralytics) (2.1.5)\n",
            "Requirement already satisfied: mpmath>=0.19 in /usr/local/lib/python3.10/dist-packages (from sympy->torch>=1.8.0->ultralytics) (1.3.0)\n",
            "Installing collected packages: nvidia-nvtx-cu12, nvidia-nvjitlink-cu12, nvidia-nccl-cu12, nvidia-curand-cu12, nvidia-cufft-cu12, nvidia-cuda-runtime-cu12, nvidia-cuda-nvrtc-cu12, nvidia-cuda-cupti-cu12, nvidia-cublas-cu12, nvidia-cusparse-cu12, nvidia-cudnn-cu12, nvidia-cusolver-cu12, thop, ultralytics\n",
            "Successfully installed nvidia-cublas-cu12-12.1.3.1 nvidia-cuda-cupti-cu12-12.1.105 nvidia-cuda-nvrtc-cu12-12.1.105 nvidia-cuda-runtime-cu12-12.1.105 nvidia-cudnn-cu12-8.9.2.26 nvidia-cufft-cu12-11.0.2.54 nvidia-curand-cu12-10.3.2.106 nvidia-cusolver-cu12-11.4.5.107 nvidia-cusparse-cu12-12.1.0.106 nvidia-nccl-cu12-2.19.3 nvidia-nvjitlink-cu12-12.4.127 nvidia-nvtx-cu12-12.1.105 thop-0.1.1.post2209072238 ultralytics-8.2.15\n"
          ]
        }
      ]
    },
    {
      "cell_type": "code",
      "source": [
        "!pip install numpy torch torchvision opencv-python"
      ],
      "metadata": {
        "colab": {
          "base_uri": "https://localhost:8080/"
        },
        "id": "g7MNHqeK2aOm",
        "outputId": "92671c77-a884-425c-feed-17d92fb1fc6d"
      },
      "execution_count": null,
      "outputs": [
        {
          "output_type": "stream",
          "name": "stdout",
          "text": [
            "Requirement already satisfied: numpy in /usr/local/lib/python3.10/dist-packages (1.25.2)\n",
            "Requirement already satisfied: torch in /usr/local/lib/python3.10/dist-packages (2.2.1+cu121)\n",
            "Requirement already satisfied: torchvision in /usr/local/lib/python3.10/dist-packages (0.17.1+cu121)\n",
            "Requirement already satisfied: opencv-python in /usr/local/lib/python3.10/dist-packages (4.8.0.76)\n",
            "Requirement already satisfied: filelock in /usr/local/lib/python3.10/dist-packages (from torch) (3.14.0)\n",
            "Requirement already satisfied: typing-extensions>=4.8.0 in /usr/local/lib/python3.10/dist-packages (from torch) (4.11.0)\n",
            "Requirement already satisfied: sympy in /usr/local/lib/python3.10/dist-packages (from torch) (1.12)\n",
            "Requirement already satisfied: networkx in /usr/local/lib/python3.10/dist-packages (from torch) (3.3)\n",
            "Requirement already satisfied: jinja2 in /usr/local/lib/python3.10/dist-packages (from torch) (3.1.4)\n",
            "Requirement already satisfied: fsspec in /usr/local/lib/python3.10/dist-packages (from torch) (2023.6.0)\n",
            "Requirement already satisfied: nvidia-cuda-nvrtc-cu12==12.1.105 in /usr/local/lib/python3.10/dist-packages (from torch) (12.1.105)\n",
            "Requirement already satisfied: nvidia-cuda-runtime-cu12==12.1.105 in /usr/local/lib/python3.10/dist-packages (from torch) (12.1.105)\n",
            "Requirement already satisfied: nvidia-cuda-cupti-cu12==12.1.105 in /usr/local/lib/python3.10/dist-packages (from torch) (12.1.105)\n",
            "Requirement already satisfied: nvidia-cudnn-cu12==8.9.2.26 in /usr/local/lib/python3.10/dist-packages (from torch) (8.9.2.26)\n",
            "Requirement already satisfied: nvidia-cublas-cu12==12.1.3.1 in /usr/local/lib/python3.10/dist-packages (from torch) (12.1.3.1)\n",
            "Requirement already satisfied: nvidia-cufft-cu12==11.0.2.54 in /usr/local/lib/python3.10/dist-packages (from torch) (11.0.2.54)\n",
            "Requirement already satisfied: nvidia-curand-cu12==10.3.2.106 in /usr/local/lib/python3.10/dist-packages (from torch) (10.3.2.106)\n",
            "Requirement already satisfied: nvidia-cusolver-cu12==11.4.5.107 in /usr/local/lib/python3.10/dist-packages (from torch) (11.4.5.107)\n",
            "Requirement already satisfied: nvidia-cusparse-cu12==12.1.0.106 in /usr/local/lib/python3.10/dist-packages (from torch) (12.1.0.106)\n",
            "Requirement already satisfied: nvidia-nccl-cu12==2.19.3 in /usr/local/lib/python3.10/dist-packages (from torch) (2.19.3)\n",
            "Requirement already satisfied: nvidia-nvtx-cu12==12.1.105 in /usr/local/lib/python3.10/dist-packages (from torch) (12.1.105)\n",
            "Requirement already satisfied: triton==2.2.0 in /usr/local/lib/python3.10/dist-packages (from torch) (2.2.0)\n",
            "Requirement already satisfied: nvidia-nvjitlink-cu12 in /usr/local/lib/python3.10/dist-packages (from nvidia-cusolver-cu12==11.4.5.107->torch) (12.4.127)\n",
            "Requirement already satisfied: pillow!=8.3.*,>=5.3.0 in /usr/local/lib/python3.10/dist-packages (from torchvision) (9.4.0)\n",
            "Requirement already satisfied: MarkupSafe>=2.0 in /usr/local/lib/python3.10/dist-packages (from jinja2->torch) (2.1.5)\n",
            "Requirement already satisfied: mpmath>=0.19 in /usr/local/lib/python3.10/dist-packages (from sympy->torch) (1.3.0)\n"
          ]
        }
      ]
    },
    {
      "cell_type": "markdown",
      "source": [
        "## Trainig and Validation"
      ],
      "metadata": {
        "id": "nSVFYyw5DwLL"
      }
    },
    {
      "cell_type": "code",
      "source": [
        "!yolo \\\n",
        "    task=detect \\\n",
        "    mode=train \\\n",
        "    data=/content/American-Sign-Language-Letters-1/data.yaml \\\n",
        "    model=yolov8s \\\n",
        "    epochs=20 \\\n",
        "    imgsz=400 \\\n",
        "    project=/content/American-Sign-Language-Letters-1 \\\n",
        "    name=asl_letters_yolov8s \\\n",
        "    val= True"
      ],
      "metadata": {
        "id": "PDhBfLiAHXtP",
        "colab": {
          "base_uri": "https://localhost:8080/"
        },
        "outputId": "d5b6dd59-eeb3-4418-b6c9-643eca33c438"
      },
      "execution_count": null,
      "outputs": [
        {
          "output_type": "stream",
          "name": "stdout",
          "text": [
            "Ultralytics YOLOv8.2.15 🚀 Python-3.10.12 torch-2.2.1+cu121 CUDA:0 (Tesla T4, 15102MiB)\n",
            "\u001b[34m\u001b[1mengine/trainer: \u001b[0mtask=detect, mode=train, model=yolov8s, data=/content/American-Sign-Language-Letters-1/data.yaml, epochs=20, time=None, patience=100, batch=16, imgsz=400, save=True, save_period=-1, cache=False, device=None, workers=8, project=/content/American-Sign-Language-Letters-1, name=asl_letters_yolov8s, exist_ok=False, pretrained=True, optimizer=auto, verbose=True, seed=0, deterministic=True, single_cls=False, rect=False, cos_lr=False, close_mosaic=10, resume=False, amp=True, fraction=1.0, profile=False, freeze=None, multi_scale=False, overlap_mask=True, mask_ratio=4, dropout=0.0, val=True, split=val, save_json=False, save_hybrid=False, conf=None, iou=0.7, max_det=300, half=False, dnn=False, plots=True, source=None, vid_stride=1, stream_buffer=False, visualize=False, augment=False, agnostic_nms=False, classes=None, retina_masks=False, embed=None, show=False, save_frames=False, save_txt=False, save_conf=False, save_crop=False, show_labels=True, show_conf=True, show_boxes=True, line_width=None, format=torchscript, keras=False, optimize=False, int8=False, dynamic=False, simplify=False, opset=None, workspace=4, nms=False, lr0=0.01, lrf=0.01, momentum=0.937, weight_decay=0.0005, warmup_epochs=3.0, warmup_momentum=0.8, warmup_bias_lr=0.1, box=7.5, cls=0.5, dfl=1.5, pose=12.0, kobj=1.0, label_smoothing=0.0, nbs=64, hsv_h=0.015, hsv_s=0.7, hsv_v=0.4, degrees=0.0, translate=0.1, scale=0.5, shear=0.0, perspective=0.0, flipud=0.0, fliplr=0.5, bgr=0.0, mosaic=1.0, mixup=0.0, copy_paste=0.0, auto_augment=randaugment, erasing=0.4, crop_fraction=1.0, cfg=None, tracker=botsort.yaml, save_dir=/content/American-Sign-Language-Letters-1/asl_letters_yolov8s\n",
            "Downloading https://ultralytics.com/assets/Arial.ttf to '/root/.config/Ultralytics/Arial.ttf'...\n",
            "100% 755k/755k [00:00<00:00, 44.8MB/s]\n",
            "2024-05-13 21:30:03.609594: E external/local_xla/xla/stream_executor/cuda/cuda_dnn.cc:9261] Unable to register cuDNN factory: Attempting to register factory for plugin cuDNN when one has already been registered\n",
            "2024-05-13 21:30:03.609661: E external/local_xla/xla/stream_executor/cuda/cuda_fft.cc:607] Unable to register cuFFT factory: Attempting to register factory for plugin cuFFT when one has already been registered\n",
            "2024-05-13 21:30:03.611069: E external/local_xla/xla/stream_executor/cuda/cuda_blas.cc:1515] Unable to register cuBLAS factory: Attempting to register factory for plugin cuBLAS when one has already been registered\n",
            "Overriding model.yaml nc=80 with nc=26\n",
            "\n",
            "                   from  n    params  module                                       arguments                     \n",
            "  0                  -1  1       928  ultralytics.nn.modules.conv.Conv             [3, 32, 3, 2]                 \n",
            "  1                  -1  1     18560  ultralytics.nn.modules.conv.Conv             [32, 64, 3, 2]                \n",
            "  2                  -1  1     29056  ultralytics.nn.modules.block.C2f             [64, 64, 1, True]             \n",
            "  3                  -1  1     73984  ultralytics.nn.modules.conv.Conv             [64, 128, 3, 2]               \n",
            "  4                  -1  2    197632  ultralytics.nn.modules.block.C2f             [128, 128, 2, True]           \n",
            "  5                  -1  1    295424  ultralytics.nn.modules.conv.Conv             [128, 256, 3, 2]              \n",
            "  6                  -1  2    788480  ultralytics.nn.modules.block.C2f             [256, 256, 2, True]           \n",
            "  7                  -1  1   1180672  ultralytics.nn.modules.conv.Conv             [256, 512, 3, 2]              \n",
            "  8                  -1  1   1838080  ultralytics.nn.modules.block.C2f             [512, 512, 1, True]           \n",
            "  9                  -1  1    656896  ultralytics.nn.modules.block.SPPF            [512, 512, 5]                 \n",
            " 10                  -1  1         0  torch.nn.modules.upsampling.Upsample         [None, 2, 'nearest']          \n",
            " 11             [-1, 6]  1         0  ultralytics.nn.modules.conv.Concat           [1]                           \n",
            " 12                  -1  1    591360  ultralytics.nn.modules.block.C2f             [768, 256, 1]                 \n",
            " 13                  -1  1         0  torch.nn.modules.upsampling.Upsample         [None, 2, 'nearest']          \n",
            " 14             [-1, 4]  1         0  ultralytics.nn.modules.conv.Concat           [1]                           \n",
            " 15                  -1  1    148224  ultralytics.nn.modules.block.C2f             [384, 128, 1]                 \n",
            " 16                  -1  1    147712  ultralytics.nn.modules.conv.Conv             [128, 128, 3, 2]              \n",
            " 17            [-1, 12]  1         0  ultralytics.nn.modules.conv.Concat           [1]                           \n",
            " 18                  -1  1    493056  ultralytics.nn.modules.block.C2f             [384, 256, 1]                 \n",
            " 19                  -1  1    590336  ultralytics.nn.modules.conv.Conv             [256, 256, 3, 2]              \n",
            " 20             [-1, 9]  1         0  ultralytics.nn.modules.conv.Concat           [1]                           \n",
            " 21                  -1  1   1969152  ultralytics.nn.modules.block.C2f             [768, 512, 1]                 \n",
            " 22        [15, 18, 21]  1   2126110  ultralytics.nn.modules.head.Detect           [26, [128, 256, 512]]         \n",
            "Model summary: 225 layers, 11145662 parameters, 11145646 gradients, 28.7 GFLOPs\n",
            "\n",
            "Transferred 349/355 items from pretrained weights\n",
            "\u001b[34m\u001b[1mTensorBoard: \u001b[0mStart with 'tensorboard --logdir /content/American-Sign-Language-Letters-1/asl_letters_yolov8s', view at http://localhost:6006/\n",
            "Freezing layer 'model.22.dfl.conv.weight'\n",
            "\u001b[34m\u001b[1mAMP: \u001b[0mrunning Automatic Mixed Precision (AMP) checks with YOLOv8n...\n",
            "Downloading https://github.com/ultralytics/assets/releases/download/v8.2.0/yolov8n.pt to 'yolov8n.pt'...\n",
            "100% 6.23M/6.23M [00:00<00:00, 190MB/s]\n",
            "\u001b[34m\u001b[1mAMP: \u001b[0mchecks passed ✅\n",
            "WARNING ⚠️ imgsz=[400] must be multiple of max stride 32, updating to [416]\n",
            "\u001b[34m\u001b[1mtrain: \u001b[0mScanning /content/American-Sign-Language-Letters-1/train/labels... 1512 images, 0 backgrounds, 0 corrupt: 100% 1512/1512 [00:00<00:00, 1516.27it/s]\n",
            "\u001b[34m\u001b[1mtrain: \u001b[0mNew cache created: /content/American-Sign-Language-Letters-1/train/labels.cache\n",
            "\u001b[34m\u001b[1malbumentations: \u001b[0mBlur(p=0.01, blur_limit=(3, 7)), MedianBlur(p=0.01, blur_limit=(3, 7)), ToGray(p=0.01), CLAHE(p=0.01, clip_limit=(1, 4.0), tile_grid_size=(8, 8))\n",
            "/usr/lib/python3.10/multiprocessing/popen_fork.py:66: RuntimeWarning: os.fork() was called. os.fork() is incompatible with multithreaded code, and JAX is multithreaded, so this will likely lead to a deadlock.\n",
            "  self.pid = os.fork()\n",
            "\u001b[34m\u001b[1mval: \u001b[0mScanning /content/American-Sign-Language-Letters-1/valid/labels... 144 images, 0 backgrounds, 0 corrupt: 100% 144/144 [00:00<00:00, 505.08it/s]\n",
            "\u001b[34m\u001b[1mval: \u001b[0mNew cache created: /content/American-Sign-Language-Letters-1/valid/labels.cache\n",
            "Plotting labels to /content/American-Sign-Language-Letters-1/asl_letters_yolov8s/labels.jpg... \n",
            "\u001b[34m\u001b[1moptimizer:\u001b[0m 'optimizer=auto' found, ignoring 'lr0=0.01' and 'momentum=0.937' and determining best 'optimizer', 'lr0' and 'momentum' automatically... \n",
            "\u001b[34m\u001b[1moptimizer:\u001b[0m AdamW(lr=0.000333, momentum=0.9) with parameter groups 57 weight(decay=0.0), 64 weight(decay=0.0005), 63 bias(decay=0.0)\n",
            "\u001b[34m\u001b[1mTensorBoard: \u001b[0mmodel graph visualization added ✅\n",
            "Image sizes 416 train, 416 val\n",
            "Using 2 dataloader workers\n",
            "Logging results to \u001b[1m/content/American-Sign-Language-Letters-1/asl_letters_yolov8s\u001b[0m\n",
            "Starting training for 20 epochs...\n",
            "\n",
            "      Epoch    GPU_mem   box_loss   cls_loss   dfl_loss  Instances       Size\n",
            "       1/20      2.03G      1.148      3.753      1.419         13        416: 100% 95/95 [00:23<00:00,  3.96it/s]\n",
            "                 Class     Images  Instances      Box(P          R      mAP50  mAP50-95): 100% 5/5 [00:03<00:00,  1.47it/s]\n",
            "                   all        144        144      0.388      0.429      0.398      0.312\n",
            "\n",
            "      Epoch    GPU_mem   box_loss   cls_loss   dfl_loss  Instances       Size\n",
            "       2/20      1.98G      0.854      2.212      1.189         19        416: 100% 95/95 [00:23<00:00,  4.12it/s]\n",
            "                 Class     Images  Instances      Box(P          R      mAP50  mAP50-95): 100% 5/5 [00:00<00:00,  5.25it/s]\n",
            "                   all        144        144      0.652       0.62      0.735      0.559\n",
            "\n",
            "      Epoch    GPU_mem   box_loss   cls_loss   dfl_loss  Instances       Size\n",
            "       3/20      1.94G     0.8438      1.799      1.166         16        416: 100% 95/95 [00:20<00:00,  4.64it/s]\n",
            "                 Class     Images  Instances      Box(P          R      mAP50  mAP50-95): 100% 5/5 [00:00<00:00,  5.58it/s]\n",
            "                   all        144        144      0.646      0.756      0.776       0.65\n",
            "\n",
            "      Epoch    GPU_mem   box_loss   cls_loss   dfl_loss  Instances       Size\n",
            "       4/20      1.97G     0.8248      1.558       1.14         20        416: 100% 95/95 [00:21<00:00,  4.44it/s]\n",
            "                 Class     Images  Instances      Box(P          R      mAP50  mAP50-95): 100% 5/5 [00:00<00:00,  5.55it/s]\n",
            "                   all        144        144      0.772      0.792      0.849      0.689\n",
            "\n",
            "      Epoch    GPU_mem   box_loss   cls_loss   dfl_loss  Instances       Size\n",
            "       5/20      1.97G      0.804      1.435      1.118         16        416: 100% 95/95 [00:23<00:00,  4.10it/s]\n",
            "                 Class     Images  Instances      Box(P          R      mAP50  mAP50-95): 100% 5/5 [00:01<00:00,  2.90it/s]\n",
            "                   all        144        144       0.75      0.821      0.876      0.721\n",
            "\n",
            "      Epoch    GPU_mem   box_loss   cls_loss   dfl_loss  Instances       Size\n",
            "       6/20      1.97G     0.7843      1.287      1.113         19        416: 100% 95/95 [00:22<00:00,  4.18it/s]\n",
            "                 Class     Images  Instances      Box(P          R      mAP50  mAP50-95): 100% 5/5 [00:01<00:00,  2.87it/s]\n",
            "                   all        144        144      0.778      0.818      0.877      0.702\n",
            "\n",
            "      Epoch    GPU_mem   box_loss   cls_loss   dfl_loss  Instances       Size\n",
            "       7/20      1.94G     0.7694      1.206        1.1         17        416: 100% 95/95 [00:22<00:00,  4.15it/s]\n",
            "                 Class     Images  Instances      Box(P          R      mAP50  mAP50-95): 100% 5/5 [00:00<00:00,  5.50it/s]\n",
            "                   all        144        144       0.83      0.821      0.908      0.729\n",
            "\n",
            "      Epoch    GPU_mem   box_loss   cls_loss   dfl_loss  Instances       Size\n",
            "       8/20      1.97G     0.7471      1.098      1.083         22        416: 100% 95/95 [00:30<00:00,  3.11it/s]\n",
            "                 Class     Images  Instances      Box(P          R      mAP50  mAP50-95): 100% 5/5 [00:00<00:00,  5.29it/s]\n",
            "                   all        144        144      0.798      0.815      0.899      0.718\n",
            "\n",
            "      Epoch    GPU_mem   box_loss   cls_loss   dfl_loss  Instances       Size\n",
            "       9/20      1.96G     0.7441      1.039      1.082         19        416: 100% 95/95 [00:21<00:00,  4.51it/s]\n",
            "                 Class     Images  Instances      Box(P          R      mAP50  mAP50-95): 100% 5/5 [00:00<00:00,  5.70it/s]\n",
            "                   all        144        144      0.853      0.796       0.91      0.733\n",
            "\n",
            "      Epoch    GPU_mem   box_loss   cls_loss   dfl_loss  Instances       Size\n",
            "      10/20      1.98G     0.7314     0.9579      1.079         20        416: 100% 95/95 [00:22<00:00,  4.21it/s]\n",
            "                 Class     Images  Instances      Box(P          R      mAP50  mAP50-95): 100% 5/5 [00:01<00:00,  2.84it/s]\n",
            "                   all        144        144      0.854      0.879      0.932      0.762\n",
            "Closing dataloader mosaic\n",
            "\u001b[34m\u001b[1malbumentations: \u001b[0mBlur(p=0.01, blur_limit=(3, 7)), MedianBlur(p=0.01, blur_limit=(3, 7)), ToGray(p=0.01), CLAHE(p=0.01, clip_limit=(1, 4.0), tile_grid_size=(8, 8))\n",
            "/usr/lib/python3.10/multiprocessing/popen_fork.py:66: RuntimeWarning: os.fork() was called. os.fork() is incompatible with multithreaded code, and JAX is multithreaded, so this will likely lead to a deadlock.\n",
            "  self.pid = os.fork()\n",
            "\n",
            "      Epoch    GPU_mem   box_loss   cls_loss   dfl_loss  Instances       Size\n",
            "      11/20      1.94G     0.5119     0.4815     0.9563          8        416: 100% 95/95 [00:23<00:00,  4.09it/s]\n",
            "                 Class     Images  Instances      Box(P          R      mAP50  mAP50-95): 100% 5/5 [00:00<00:00,  5.32it/s]\n",
            "                   all        144        144      0.876      0.879      0.928       0.77\n",
            "\n",
            "      Epoch    GPU_mem   box_loss   cls_loss   dfl_loss  Instances       Size\n",
            "      12/20      1.97G      0.491     0.4173      0.937          8        416: 100% 95/95 [00:20<00:00,  4.63it/s]\n",
            "                 Class     Images  Instances      Box(P          R      mAP50  mAP50-95): 100% 5/5 [00:00<00:00,  5.31it/s]\n",
            "                   all        144        144      0.833       0.89       0.91      0.746\n",
            "\n",
            "      Epoch    GPU_mem   box_loss   cls_loss   dfl_loss  Instances       Size\n",
            "      13/20      1.96G      0.488     0.3855     0.9308          8        416: 100% 95/95 [00:20<00:00,  4.64it/s]\n",
            "                 Class     Images  Instances      Box(P          R      mAP50  mAP50-95): 100% 5/5 [00:00<00:00,  5.39it/s]\n",
            "                   all        144        144      0.894      0.852       0.94      0.774\n",
            "\n",
            "      Epoch    GPU_mem   box_loss   cls_loss   dfl_loss  Instances       Size\n",
            "      14/20      1.97G     0.4787     0.3473     0.9231          8        416: 100% 95/95 [00:21<00:00,  4.46it/s]\n",
            "                 Class     Images  Instances      Box(P          R      mAP50  mAP50-95): 100% 5/5 [00:02<00:00,  2.21it/s]\n",
            "                   all        144        144      0.889      0.871      0.922      0.753\n",
            "\n",
            "      Epoch    GPU_mem   box_loss   cls_loss   dfl_loss  Instances       Size\n",
            "      15/20      1.94G     0.4536     0.3347     0.9159          8        416: 100% 95/95 [00:27<00:00,  3.48it/s]\n",
            "                 Class     Images  Instances      Box(P          R      mAP50  mAP50-95): 100% 5/5 [00:00<00:00,  5.52it/s]\n",
            "                   all        144        144      0.881      0.902      0.942      0.772\n",
            "\n",
            "      Epoch    GPU_mem   box_loss   cls_loss   dfl_loss  Instances       Size\n",
            "      16/20      1.97G     0.4471     0.3005     0.9141          8        416: 100% 95/95 [00:19<00:00,  4.78it/s]\n",
            "                 Class     Images  Instances      Box(P          R      mAP50  mAP50-95): 100% 5/5 [00:00<00:00,  5.51it/s]\n",
            "                   all        144        144      0.896      0.878      0.939      0.782\n",
            "\n",
            "      Epoch    GPU_mem   box_loss   cls_loss   dfl_loss  Instances       Size\n",
            "      17/20      1.96G     0.4393      0.281     0.9039          8        416: 100% 95/95 [00:19<00:00,  4.80it/s]\n",
            "                 Class     Images  Instances      Box(P          R      mAP50  mAP50-95): 100% 5/5 [00:00<00:00,  5.37it/s]\n",
            "                   all        144        144      0.924      0.865      0.962      0.805\n",
            "\n",
            "      Epoch    GPU_mem   box_loss   cls_loss   dfl_loss  Instances       Size\n",
            "      18/20      1.96G     0.4211     0.2647     0.8959          8        416: 100% 95/95 [00:20<00:00,  4.69it/s]\n",
            "                 Class     Images  Instances      Box(P          R      mAP50  mAP50-95): 100% 5/5 [00:01<00:00,  4.88it/s]\n",
            "                   all        144        144      0.938      0.883      0.956      0.792\n",
            "\n",
            "      Epoch    GPU_mem   box_loss   cls_loss   dfl_loss  Instances       Size\n",
            "      19/20      1.94G     0.4057     0.2509     0.8905          8        416: 100% 95/95 [00:19<00:00,  4.79it/s]\n",
            "                 Class     Images  Instances      Box(P          R      mAP50  mAP50-95): 100% 5/5 [00:01<00:00,  3.33it/s]\n",
            "                   all        144        144      0.939      0.885      0.956      0.791\n",
            "\n",
            "      Epoch    GPU_mem   box_loss   cls_loss   dfl_loss  Instances       Size\n",
            "      20/20      1.97G     0.3979     0.2405      0.892          8        416: 100% 95/95 [00:20<00:00,  4.69it/s]\n",
            "                 Class     Images  Instances      Box(P          R      mAP50  mAP50-95): 100% 5/5 [00:01<00:00,  3.25it/s]\n",
            "                   all        144        144      0.937      0.895      0.958        0.8\n",
            "\n",
            "20 epochs completed in 0.138 hours.\n",
            "Optimizer stripped from /content/American-Sign-Language-Letters-1/asl_letters_yolov8s/weights/last.pt, 22.5MB\n",
            "Optimizer stripped from /content/American-Sign-Language-Letters-1/asl_letters_yolov8s/weights/best.pt, 22.5MB\n",
            "\n",
            "Validating /content/American-Sign-Language-Letters-1/asl_letters_yolov8s/weights/best.pt...\n",
            "Ultralytics YOLOv8.2.15 🚀 Python-3.10.12 torch-2.2.1+cu121 CUDA:0 (Tesla T4, 15102MiB)\n",
            "Model summary (fused): 168 layers, 11135646 parameters, 0 gradients, 28.5 GFLOPs\n",
            "                 Class     Images  Instances      Box(P          R      mAP50  mAP50-95): 100% 5/5 [00:02<00:00,  1.92it/s]\n",
            "                   all        144        144      0.924      0.865      0.962      0.804\n",
            "                     A        144          5      0.973        0.8      0.906      0.779\n",
            "                     B        144          9          1      0.699      0.995      0.823\n",
            "                     C        144          3      0.972          1      0.995      0.809\n",
            "                     D        144          6      0.835      0.843      0.972      0.834\n",
            "                     E        144          4      0.962          1      0.995      0.853\n",
            "                     F        144          8      0.978      0.875      0.982      0.851\n",
            "                     G        144          5      0.992          1      0.995      0.832\n",
            "                     H        144          9      0.987          1      0.995      0.764\n",
            "                     I        144          2      0.941        0.5      0.606      0.535\n",
            "                     J        144          8      0.997          1      0.995      0.694\n",
            "                     K        144          6          1      0.707      0.955      0.852\n",
            "                     L        144          4      0.999          1      0.995      0.872\n",
            "                     M        144          8          1      0.512      0.971      0.807\n",
            "                     N        144          4      0.564          1      0.945      0.817\n",
            "                     O        144          7          1      0.622      0.995      0.768\n",
            "                     P        144          7          1      0.876      0.995      0.713\n",
            "                     Q        144          4      0.979          1      0.995      0.848\n",
            "                     R        144          7      0.994          1      0.995      0.821\n",
            "                     S        144          4      0.971          1      0.995      0.803\n",
            "                     T        144          6          1      0.628      0.948      0.841\n",
            "                     U        144          7      0.809          1      0.995      0.784\n",
            "                     V        144          5      0.601      0.603      0.853      0.696\n",
            "                     W        144          3      0.596          1      0.995      0.852\n",
            "                     X        144          1      0.899          1      0.995      0.995\n",
            "                     Y        144          8          1      0.839      0.955      0.752\n",
            "                     Z        144          4      0.973          1      0.995      0.912\n",
            "Speed: 0.3ms preprocess, 2.5ms inference, 0.0ms loss, 1.9ms postprocess per image\n",
            "Results saved to \u001b[1m/content/American-Sign-Language-Letters-1/asl_letters_yolov8s\u001b[0m\n",
            "💡 Learn more at https://docs.ultralytics.com/modes/train\n"
          ]
        }
      ]
    },
    {
      "cell_type": "markdown",
      "source": [
        "## Testing"
      ],
      "metadata": {
        "id": "MZ6f9BixD1FT"
      }
    },
    {
      "cell_type": "code",
      "source": [
        "!yolo \\\n",
        "    task=detect \\\n",
        "    mode=predict \\\n",
        "    model=/content/American-Sign-Language-Letters-1/asl_letters_yolov8s/weights/best.pt \\\n",
        "    conf=0.25 \\\n",
        "    source=/content/American-Sign-Language-Letters-1/test/images"
      ],
      "metadata": {
        "colab": {
          "base_uri": "https://localhost:8080/"
        },
        "id": "MxRqcOg25wqC",
        "outputId": "85bd9fc3-dfce-4d86-aaec-d9595f765ff1"
      },
      "execution_count": null,
      "outputs": [
        {
          "output_type": "stream",
          "name": "stdout",
          "text": [
            "Ultralytics YOLOv8.2.15 🚀 Python-3.10.12 torch-2.2.1+cu121 CUDA:0 (Tesla T4, 15102MiB)\n",
            "Model summary (fused): 168 layers, 11135646 parameters, 0 gradients, 28.5 GFLOPs\n",
            "\n",
            "image 1/72 /content/American-Sign-Language-Letters-1/test/images/A22_jpg.rf.f02ad8558ce1c88213b4f83c0bc66bc8.jpg: 416x416 1 A, 10.4ms\n",
            "image 2/72 /content/American-Sign-Language-Letters-1/test/images/B14_jpg.rf.ed5ba6d44f55ab03e62d2baeac4aa1aa.jpg: 416x416 1 B, 10.3ms\n",
            "image 3/72 /content/American-Sign-Language-Letters-1/test/images/B15_jpg.rf.0f0628552139144fc67c453e1f1b7b15.jpg: 416x416 1 B, 10.2ms\n",
            "image 4/72 /content/American-Sign-Language-Letters-1/test/images/B19_jpg.rf.69527cc1f34d694cc04e55db80ed9b1a.jpg: 416x416 1 B, 10.2ms\n",
            "image 5/72 /content/American-Sign-Language-Letters-1/test/images/C17_jpg.rf.ceb81f8ae3c3673bd060ebe71848eca8.jpg: 416x416 1 C, 10.2ms\n",
            "image 6/72 /content/American-Sign-Language-Letters-1/test/images/C19_jpg.rf.577ce02a223c65e89dc4a4eacd130040.jpg: 416x416 1 C, 10.2ms\n",
            "image 7/72 /content/American-Sign-Language-Letters-1/test/images/C22_jpg.rf.e54cbbfdd4ea0670eb4e1c507de4a8a2.jpg: 416x416 1 C, 10.2ms\n",
            "image 8/72 /content/American-Sign-Language-Letters-1/test/images/C23_jpg.rf.cff2647e71600ac354da45cb87eca667.jpg: 416x416 1 C, 10.2ms\n",
            "image 9/72 /content/American-Sign-Language-Letters-1/test/images/D1_jpg.rf.89a5f6f41bf8bc795db94105f709dd34.jpg: 416x416 1 D, 10.2ms\n",
            "image 10/72 /content/American-Sign-Language-Letters-1/test/images/F17_jpg.rf.6097db79e0385af55b85ad5fa03cdc55.jpg: 416x416 1 F, 9.8ms\n",
            "image 11/72 /content/American-Sign-Language-Letters-1/test/images/F3_jpg.rf.c854e14a7108c9294c226a392026e73b.jpg: 416x416 1 F, 9.7ms\n",
            "image 12/72 /content/American-Sign-Language-Letters-1/test/images/G11_jpg.rf.cc02dc447a7959e73869f4f45b0ef29a.jpg: 416x416 1 G, 9.7ms\n",
            "image 13/72 /content/American-Sign-Language-Letters-1/test/images/G20_jpg.rf.e0c7b5abdee0fb589e576002c76f4ace.jpg: 416x416 1 G, 9.7ms\n",
            "image 14/72 /content/American-Sign-Language-Letters-1/test/images/G3_jpg.rf.e723dcdc277f3432e4eb7003b6e5a587.jpg: 416x416 1 G, 9.7ms\n",
            "image 15/72 /content/American-Sign-Language-Letters-1/test/images/G4_jpg.rf.d55500c4fc04c89c78d42e2283860275.jpg: 416x416 1 G, 9.7ms\n",
            "image 16/72 /content/American-Sign-Language-Letters-1/test/images/G7_jpg.rf.04faf434dd590a7bd02818b2b57a704f.jpg: 416x416 1 G, 9.7ms\n",
            "image 17/72 /content/American-Sign-Language-Letters-1/test/images/H19_jpg.rf.4957c34731ee5c867288825f5ca9f170.jpg: 416x416 1 H, 9.7ms\n",
            "image 18/72 /content/American-Sign-Language-Letters-1/test/images/H25_jpg.rf.dce08bcb4d091593dda19db8b0d2b155.jpg: 416x416 1 H, 9.7ms\n",
            "image 19/72 /content/American-Sign-Language-Letters-1/test/images/H5_jpg.rf.f7077ae3eb67ac9f01bd2914625a05b9.jpg: 416x416 1 H, 9.8ms\n",
            "image 20/72 /content/American-Sign-Language-Letters-1/test/images/I17_jpg.rf.8f1ed619e93147f7f9754a4eddbb90de.jpg: 416x416 1 I, 9.7ms\n",
            "image 21/72 /content/American-Sign-Language-Letters-1/test/images/I28_jpg.rf.74efc17a40df4bbd0bc63625be836201.jpg: 416x416 1 L, 8.8ms\n",
            "image 22/72 /content/American-Sign-Language-Letters-1/test/images/J27_jpg.rf.d8b9ca4ab3abf8436b2faab339881496.jpg: 416x416 1 J, 7.3ms\n",
            "image 23/72 /content/American-Sign-Language-Letters-1/test/images/J28_jpg.rf.e25320de48d1b6037555bcdb95d28f0d.jpg: 416x416 1 J, 7.3ms\n",
            "image 24/72 /content/American-Sign-Language-Letters-1/test/images/J6_jpg.rf.6db6cb7829752f430ec8344bc7605444.jpg: 416x416 1 J, 7.3ms\n",
            "image 25/72 /content/American-Sign-Language-Letters-1/test/images/J9_jpg.rf.213a9e356777a13d336e4988c33a93e1.jpg: 416x416 1 J, 7.9ms\n",
            "image 26/72 /content/American-Sign-Language-Letters-1/test/images/K12_jpg.rf.1bd849de853e33f6262b6643555e098f.jpg: 416x416 1 K, 7.3ms\n",
            "image 27/72 /content/American-Sign-Language-Letters-1/test/images/K13_jpg.rf.d544147ca4794793e996cbe309fbcf28.jpg: 416x416 1 D, 1 V, 7.3ms\n",
            "image 28/72 /content/American-Sign-Language-Letters-1/test/images/K24_jpg.rf.f1a48e0e3bf4bcae3540590c972d57f3.jpg: 416x416 1 K, 7.3ms\n",
            "image 29/72 /content/American-Sign-Language-Letters-1/test/images/K6_jpg.rf.5f1f357165ba30376b667035f60fc6ce.jpg: 416x416 1 K, 1 V, 7.3ms\n",
            "image 30/72 /content/American-Sign-Language-Letters-1/test/images/M14_jpg.rf.f7da6c9c9d9d3f5c6db4689846f722cc.jpg: 416x416 1 N, 7.3ms\n",
            "image 31/72 /content/American-Sign-Language-Letters-1/test/images/M20_jpg.rf.aa9f2799d2cbe8f51363ec2862b427a6.jpg: 416x416 1 A, 7.3ms\n",
            "image 32/72 /content/American-Sign-Language-Letters-1/test/images/M24_jpg.rf.f5f17e72ed1a7213e2a01f60f8afc158.jpg: 416x416 1 M, 7.3ms\n",
            "image 33/72 /content/American-Sign-Language-Letters-1/test/images/N22_jpg.rf.ac8a6d5cd21bd7e4fd93128e6eb24329.jpg: 416x416 1 N, 7.3ms\n",
            "image 34/72 /content/American-Sign-Language-Letters-1/test/images/N6_jpg.rf.3899dd6cc1da66139de57126a250c175.jpg: 416x416 1 N, 7.3ms\n",
            "image 35/72 /content/American-Sign-Language-Letters-1/test/images/N9_jpg.rf.b92e9f54839f076f92f54388320fb7a3.jpg: 416x416 1 A, 6.6ms\n",
            "image 36/72 /content/American-Sign-Language-Letters-1/test/images/O12_jpg.rf.9103647cd190af96ac2a83f7bd1d0ae2.jpg: 416x416 1 O, 6.4ms\n",
            "image 37/72 /content/American-Sign-Language-Letters-1/test/images/O20_jpg.rf.517237686eca6346d6d72cbd96b79cb3.jpg: 416x416 (no detections), 6.5ms\n",
            "image 38/72 /content/American-Sign-Language-Letters-1/test/images/O4_jpg.rf.82c403d496488192d134b233a080d258.jpg: 416x416 1 O, 6.3ms\n",
            "image 39/72 /content/American-Sign-Language-Letters-1/test/images/P24_jpg.rf.67b98ae281f9a130f5e6f70ebb1e574f.jpg: 416x416 1 P, 6.7ms\n",
            "image 40/72 /content/American-Sign-Language-Letters-1/test/images/Q10_jpg.rf.87a66659eb5791bf51f56ff1e1883273.jpg: 416x416 1 Q, 6.4ms\n",
            "image 41/72 /content/American-Sign-Language-Letters-1/test/images/Q7_jpg.rf.07fdf6c096cd2a9be72b4de4a627935d.jpg: 416x416 1 Q, 6.4ms\n",
            "image 42/72 /content/American-Sign-Language-Letters-1/test/images/R18_jpg.rf.362d9bbd88ac7b5122cf730d25b36517.jpg: 416x416 1 R, 6.9ms\n",
            "image 43/72 /content/American-Sign-Language-Letters-1/test/images/R5_jpg.rf.1e94c77f430ee342744dc9fce202c449.jpg: 416x416 1 R, 1 X, 12.3ms\n",
            "image 44/72 /content/American-Sign-Language-Letters-1/test/images/S0_jpg.rf.4466ad3687a4cfac9f6e4474d89e121e.jpg: 416x416 1 S, 8.7ms\n",
            "image 45/72 /content/American-Sign-Language-Letters-1/test/images/S16_jpg.rf.138a4aa81180adcc24323c1634ed507e.jpg: 416x416 1 S, 6.4ms\n",
            "image 46/72 /content/American-Sign-Language-Letters-1/test/images/S6_jpg.rf.0b6e42445a56998369cdd3759c2cf3d4.jpg: 416x416 1 S, 6.2ms\n",
            "image 47/72 /content/American-Sign-Language-Letters-1/test/images/T13_jpg.rf.bf67ceb39727be048066c0de76801971.jpg: 416x416 1 T, 6.2ms\n",
            "image 48/72 /content/American-Sign-Language-Letters-1/test/images/T17_jpg.rf.7fecdf5c5e4e4574de71a65611579e0f.jpg: 416x416 1 T, 6.6ms\n",
            "image 49/72 /content/American-Sign-Language-Letters-1/test/images/T18_jpg.rf.334025dd29760be4f8918fd6d6c3f01c.jpg: 416x416 1 N, 6.2ms\n",
            "image 50/72 /content/American-Sign-Language-Letters-1/test/images/T1_jpg.rf.877948f560962d1e267a72617d9e1ed4.jpg: 416x416 1 T, 6.2ms\n",
            "image 51/72 /content/American-Sign-Language-Letters-1/test/images/T24_jpg.rf.068e7b2424eac996c86bb6d9c38e083d.jpg: 416x416 1 T, 7.6ms\n",
            "image 52/72 /content/American-Sign-Language-Letters-1/test/images/U5_jpg.rf.2be92300b664a1946dde8902dc50adbb.jpg: 416x416 1 R, 6.3ms\n",
            "image 53/72 /content/American-Sign-Language-Letters-1/test/images/U6_jpg.rf.5a219aee1c9d41d5fdeabd66f78d0f68.jpg: 416x416 1 U, 6.3ms\n",
            "image 54/72 /content/American-Sign-Language-Letters-1/test/images/V10_jpg.rf.18af9b37cbe013f9a0640294fb71f0d6.jpg: 416x416 1 V, 6.4ms\n",
            "image 55/72 /content/American-Sign-Language-Letters-1/test/images/V12_jpg.rf.0e68ec7ee88bd6f0f70fe5496e893068.jpg: 416x416 1 V, 8.1ms\n",
            "image 56/72 /content/American-Sign-Language-Letters-1/test/images/V27_jpg.rf.c316e3cfcddb7fe8d6ed9e06290b3b1c.jpg: 416x416 1 V, 6.5ms\n",
            "image 57/72 /content/American-Sign-Language-Letters-1/test/images/V2_jpg.rf.f887a9d681a64f8a2efe8375245ab4bb.jpg: 416x416 1 V, 6.2ms\n",
            "image 58/72 /content/American-Sign-Language-Letters-1/test/images/W16_jpg.rf.5771e4967321c7e827758319e697bed6.jpg: 416x416 1 W, 6.3ms\n",
            "image 59/72 /content/American-Sign-Language-Letters-1/test/images/W19_jpg.rf.62d8144cb69396b18abeb70e34191b2a.jpg: 416x416 1 W, 6.8ms\n",
            "image 60/72 /content/American-Sign-Language-Letters-1/test/images/W23_jpg.rf.caecf7140a005d779f0950cc7c6a7616.jpg: 416x416 1 W, 6.3ms\n",
            "image 61/72 /content/American-Sign-Language-Letters-1/test/images/W24_jpg.rf.1bc37c6fc4770b284edc6f9027eb6cf2.jpg: 416x416 1 W, 6.3ms\n",
            "image 62/72 /content/American-Sign-Language-Letters-1/test/images/W7_jpg.rf.c80a52e6a95797bd8cf3a03ec4701d99.jpg: 416x416 1 W, 6.3ms\n",
            "image 63/72 /content/American-Sign-Language-Letters-1/test/images/X14_jpg.rf.3c3c69ed80d0ce1688d1dde4b21f19f9.jpg: 416x416 1 X, 6.4ms\n",
            "image 64/72 /content/American-Sign-Language-Letters-1/test/images/X20_jpg.rf.2a36699005b7e1881e5faa278c506b86.jpg: 416x416 1 X, 6.3ms\n",
            "image 65/72 /content/American-Sign-Language-Letters-1/test/images/X24_jpg.rf.ed6474bd56983fbdb13576b2c3e9c0b7.jpg: 416x416 1 X, 6.7ms\n",
            "image 66/72 /content/American-Sign-Language-Letters-1/test/images/X9_jpg.rf.28187742b082579d85eda81cf98bf5bb.jpg: 416x416 1 X, 6.3ms\n",
            "image 67/72 /content/American-Sign-Language-Letters-1/test/images/Y25_jpg.rf.a8796b77dd8c6370577ceacd3852b4b9.jpg: 416x416 1 Y, 6.2ms\n",
            "image 68/72 /content/American-Sign-Language-Letters-1/test/images/Y5_jpg.rf.86682b1ddac4546cc626ba99a61f42fc.jpg: 416x416 1 Y, 6.2ms\n",
            "image 69/72 /content/American-Sign-Language-Letters-1/test/images/Z16_jpg.rf.309328aaeb31736f8a93a570d6d4f140.jpg: 416x416 1 Z, 6.3ms\n",
            "image 70/72 /content/American-Sign-Language-Letters-1/test/images/Z18_jpg.rf.2cffbd9beaeb50a7d03751c3ce738e81.jpg: 416x416 1 Z, 6.4ms\n",
            "image 71/72 /content/American-Sign-Language-Letters-1/test/images/Z27_jpg.rf.0a3e757898215b17678047cb5485c82c.jpg: 416x416 1 Z, 6.3ms\n",
            "image 72/72 /content/American-Sign-Language-Letters-1/test/images/Z9_jpg.rf.fd5bb2f80d391b73a85bbbd5bc5accc1.jpg: 416x416 1 Z, 9.8ms\n",
            "Speed: 0.7ms preprocess, 7.8ms inference, 42.1ms postprocess per image at shape (1, 3, 416, 416)\n",
            "Results saved to \u001b[1mruns/detect/predict\u001b[0m\n",
            "💡 Learn more at https://docs.ultralytics.com/modes/predict\n"
          ]
        }
      ]
    }
  ]
}